{
 "cells": [
  {
   "cell_type": "markdown",
   "metadata": {},
   "source": [
    "## Causal Inference Techniques"
   ]
  },
  {
   "cell_type": "markdown",
   "metadata": {},
   "source": [
    "**Note: This notebook it's only to store causal inference studies.**"
   ]
  },
  {
   "cell_type": "markdown",
   "metadata": {},
   "source": [
    "### Dataset Description\n",
    "Here i'll be using the Lalonde dataset. This dataset was used to evaluate propensity score matching.<br>Two demos are provided which use this dataset. The first, DehejiaWahba, replicates one of the models from Dehejia and Wahba (1999). The second demo, AbadieImbens, replicates the models produced by Abadie and Imbens http://scholar.harvard.edu/imbens/scholar_software/matching-estimators. Many of these models are found to produce good balance for the Lalonde data."
   ]
  },
  {
   "cell_type": "code",
   "execution_count": 1,
   "metadata": {},
   "outputs": [],
   "source": [
    "# Imports\n",
    "import warnings\n",
    "warnings.filterwarnings(\"ignore\")\n",
    "\n",
    "import pandas as pd # data manipulation\n",
    "import numpy as np # linear algebra\n",
    "\n",
    "import matplotlib.pyplot as plt # data visualization\n",
    "import seaborn as sns # data visualization\n",
    "from causalinference import CausalModel # causal inference lib\n",
    "from statsmodels.tsa.stattools import adfuller # Augmented Dickey-Fuller test\n",
    "import statsmodels.api as sm # statsmodels\n",
    "from linearmodels.iv import IV2SLS # 2SLS\n",
    "from statsmodels.tsa.stattools import grangercausalitytests # Granger Causality Test\n",
    "from sklearn.linear_model import LogisticRegression # Logistic Regression for Propensity Score\n",
    "from sklearn.ensemble import RandomForestClassifier # Model m at Doubly Robust Estimator\n",
    "\n",
    "sns.set_style(\"whitegrid\")\n",
    "%matplotlib inline"
   ]
  },
  {
   "cell_type": "code",
   "execution_count": 2,
   "metadata": {},
   "outputs": [
    {
     "data": {
      "text/html": [
       "<div>\n",
       "<style scoped>\n",
       "    .dataframe tbody tr th:only-of-type {\n",
       "        vertical-align: middle;\n",
       "    }\n",
       "\n",
       "    .dataframe tbody tr th {\n",
       "        vertical-align: top;\n",
       "    }\n",
       "\n",
       "    .dataframe thead th {\n",
       "        text-align: right;\n",
       "    }\n",
       "</style>\n",
       "<table border=\"1\" class=\"dataframe\">\n",
       "  <thead>\n",
       "    <tr style=\"text-align: right;\">\n",
       "      <th></th>\n",
       "      <th>treat</th>\n",
       "      <th>age</th>\n",
       "      <th>education</th>\n",
       "      <th>black</th>\n",
       "      <th>hispanic</th>\n",
       "      <th>married</th>\n",
       "      <th>nodegree</th>\n",
       "      <th>re74</th>\n",
       "      <th>re75</th>\n",
       "      <th>re78</th>\n",
       "    </tr>\n",
       "  </thead>\n",
       "  <tbody>\n",
       "    <tr>\n",
       "      <th>0</th>\n",
       "      <td>1.0</td>\n",
       "      <td>37.0</td>\n",
       "      <td>11.0</td>\n",
       "      <td>1.0</td>\n",
       "      <td>0.0</td>\n",
       "      <td>1.0</td>\n",
       "      <td>1.0</td>\n",
       "      <td>0.0</td>\n",
       "      <td>0.0</td>\n",
       "      <td>9930.045898</td>\n",
       "    </tr>\n",
       "    <tr>\n",
       "      <th>1</th>\n",
       "      <td>1.0</td>\n",
       "      <td>22.0</td>\n",
       "      <td>9.0</td>\n",
       "      <td>0.0</td>\n",
       "      <td>1.0</td>\n",
       "      <td>0.0</td>\n",
       "      <td>1.0</td>\n",
       "      <td>0.0</td>\n",
       "      <td>0.0</td>\n",
       "      <td>3595.894043</td>\n",
       "    </tr>\n",
       "    <tr>\n",
       "      <th>2</th>\n",
       "      <td>1.0</td>\n",
       "      <td>30.0</td>\n",
       "      <td>12.0</td>\n",
       "      <td>1.0</td>\n",
       "      <td>0.0</td>\n",
       "      <td>0.0</td>\n",
       "      <td>0.0</td>\n",
       "      <td>0.0</td>\n",
       "      <td>0.0</td>\n",
       "      <td>24909.449219</td>\n",
       "    </tr>\n",
       "    <tr>\n",
       "      <th>3</th>\n",
       "      <td>1.0</td>\n",
       "      <td>27.0</td>\n",
       "      <td>11.0</td>\n",
       "      <td>1.0</td>\n",
       "      <td>0.0</td>\n",
       "      <td>0.0</td>\n",
       "      <td>1.0</td>\n",
       "      <td>0.0</td>\n",
       "      <td>0.0</td>\n",
       "      <td>7506.145996</td>\n",
       "    </tr>\n",
       "    <tr>\n",
       "      <th>4</th>\n",
       "      <td>1.0</td>\n",
       "      <td>33.0</td>\n",
       "      <td>8.0</td>\n",
       "      <td>1.0</td>\n",
       "      <td>0.0</td>\n",
       "      <td>0.0</td>\n",
       "      <td>1.0</td>\n",
       "      <td>0.0</td>\n",
       "      <td>0.0</td>\n",
       "      <td>289.789886</td>\n",
       "    </tr>\n",
       "  </tbody>\n",
       "</table>\n",
       "</div>"
      ],
      "text/plain": [
       "   treat   age  education  black  hispanic  married  nodegree  re74  re75  \\\n",
       "0    1.0  37.0       11.0    1.0       0.0      1.0       1.0   0.0   0.0   \n",
       "1    1.0  22.0        9.0    0.0       1.0      0.0       1.0   0.0   0.0   \n",
       "2    1.0  30.0       12.0    1.0       0.0      0.0       0.0   0.0   0.0   \n",
       "3    1.0  27.0       11.0    1.0       0.0      0.0       1.0   0.0   0.0   \n",
       "4    1.0  33.0        8.0    1.0       0.0      0.0       1.0   0.0   0.0   \n",
       "\n",
       "           re78  \n",
       "0   9930.045898  \n",
       "1   3595.894043  \n",
       "2  24909.449219  \n",
       "3   7506.145996  \n",
       "4    289.789886  "
      ]
     },
     "execution_count": 2,
     "metadata": {},
     "output_type": "execute_result"
    }
   ],
   "source": [
    "df = pd.read_stata('lalonde.dta').drop(columns = 'data_id')\n",
    "df.head()"
   ]
  },
  {
   "cell_type": "markdown",
   "metadata": {},
   "source": [
    "### Exploratory Data Analysis"
   ]
  },
  {
   "cell_type": "markdown",
   "metadata": {},
   "source": [
    "For now let's check the proportions of treatment and no treatment."
   ]
  },
  {
   "cell_type": "code",
   "execution_count": 3,
   "metadata": {},
   "outputs": [
    {
     "data": {
      "image/png": "[encoded data removed]",
      "text/plain": [
       "<Figure size 576x432 with 1 Axes>"
      ]
     },
     "metadata": {
      "needs_background": "light"
     },
     "output_type": "display_data"
    }
   ],
   "source": [
    "# Data manipulation to a more cool plot\n",
    "treat_balance = (df['treat']\n",
    "                 .value_counts()\n",
    "                 .reset_index()\n",
    "                 .rename(columns = {'treat':'count'}))\n",
    "treat_balance.index = ['Non-Treated', 'Treated']\n",
    "treat_balance = treat_balance.drop(columns = 'index').reset_index()\n",
    "\n",
    "# Barplot\n",
    "plt.figure(figsize = (8,6))\n",
    "plt.title('Treatment Balance', weight='bold', fontsize = 14)\n",
    "ax = sns.barplot(x = 'index', y = 'count', data = treat_balance.reset_index())\n",
    "xlocs, xlabs = plt.xticks()\n",
    "for i, v in enumerate(treat_balance['count']):\n",
    "    plt.text(xlocs[i], v + 0.5, str(v), weight='bold')\n",
    "plt.xlabel('')\n",
    "plt.show()"
   ]
  },
  {
   "cell_type": "markdown",
   "metadata": {},
   "source": [
    "Seems that our control group has higher earning that the treatment group, let's check the distribution of each one."
   ]
  },
  {
   "cell_type": "code",
   "execution_count": 4,
   "metadata": {},
   "outputs": [
    {
     "data": {
      "image/png": "[encoded data removed]",
      "text/plain": [
       "<Figure size 576x432 with 1 Axes>"
      ]
     },
     "metadata": {
      "needs_background": "light"
     },
     "output_type": "display_data"
    }
   ],
   "source": [
    "# Data manipulation to a more cool plot\n",
    "treat_dist = (df.groupby('treat')['re78'])\n",
    "\n",
    "# Histogram\n",
    "plt.figure(figsize = (8,6))\n",
    "plt.title('Treatment Distribution on Real Earnings in 1978.', weight='bold', fontsize = 14)\n",
    "treat_dist.plot.hist(bins = 20, alpha = .8)\n",
    "plt.legend(['Non-Treated', 'Treated'])\n",
    "plt.show()"
   ]
  },
  {
   "cell_type": "markdown",
   "metadata": {},
   "source": [
    "The graph above confirm to us that the control group has a higher real earnings, what about the distribution of our covariates $X$."
   ]
  },
  {
   "cell_type": "code",
   "execution_count": 5,
   "metadata": {},
   "outputs": [
    {
     "data": {
      "image/png": "[encoded data removed]",
      "text/plain": [
       "<Figure size 576x432 with 1 Axes>"
      ]
     },
     "metadata": {
      "needs_background": "light"
     },
     "output_type": "display_data"
    }
   ],
   "source": [
    "# Data manipulation to a more cool plot\n",
    "age_dist = (df.groupby('treat')['age'])\n",
    "\n",
    "# Histogram\n",
    "plt.figure(figsize = (8,6))\n",
    "plt.title('Age Distribution on Control and Treatment Group', weight='bold', fontsize = 14)\n",
    "age_dist.plot.hist(bins = 20, alpha = .8)\n",
    "plt.legend(['Non-Treated', 'Treated'])\n",
    "plt.show()"
   ]
  },
  {
   "cell_type": "markdown",
   "metadata": {},
   "source": [
    "The age of the participants of the current study was around 18 ~ 35 years old so probably if we use a technique called [Matching](https://en.wikipedia.org/wiki/Matching_(statistics)) which was developed as part of the [Rubin causal model](https://en.wikipedia.org/wiki/Rubin_causal_model) we would get good estimates. Soon we will talk more about it."
   ]
  },
  {
   "cell_type": "code",
   "execution_count": 6,
   "metadata": {},
   "outputs": [
    {
     "data": {
      "image/png": "[encoded data removed]",
      "text/plain": [
       "<Figure size 576x432 with 1 Axes>"
      ]
     },
     "metadata": {
      "needs_background": "light"
     },
     "output_type": "display_data"
    }
   ],
   "source": [
    "# Box-plot\n",
    "boxes = df.boxplot(column = ['education'], by = 'treat', figsize = (8,6), patch_artist = True, return_type = 'both')\n",
    "colors = ['C0', 'C1']\n",
    "for row_key, (ax,row) in boxes.iteritems():\n",
    "    ax.set_xlabel('')\n",
    "    for i,box in enumerate(row['boxes']):\n",
    "        box.set_facecolor(colors[i])\n",
    "plt.title('Education Distribution on Control and Treatment Group', weight='bold', fontsize = 14)\n",
    "plt.legend(['Non-Treated', 'Treated'])\n",
    "plt.show()"
   ]
  },
  {
   "cell_type": "markdown",
   "metadata": {},
   "source": [
    "The education distribution fall around 9 to 11 years studying at our control group with mean of 10 years plus some outliers.<br>\n",
    "At the treatment group it falls around 9 to 12 years studying with a mean of 11 years.<br>"
   ]
  },
  {
   "cell_type": "markdown",
   "metadata": {},
   "source": [
    "### Getting comfortable with Concepts"
   ]
  },
  {
   "cell_type": "markdown",
   "metadata": {},
   "source": [
    "Basically on observational studies we will have $covariate$ also know as $confounding variables$ which is our features (in that case is age, education, married, etc), the $response$ that is what we are studing, like if the politicians put more taxes on products does it affect on sales of Wallmart? So our response would be the sales of Wallmart, the $treatment$ at time-series a dummy variable on the period before and after the increase of the taxes.<br>\n",
    "<b> Summary </b>\n",
    "- $X$ represents the covariates; confounding variables;\n",
    "- $Y$ represents the response;\n",
    "- $T$ represents the treatment;\n",
    "<br>\n",
    "<br>\n",
    "<br>\n",
    "<b>A brief summary of the techniques that we will approach here:</b>\n",
    "- Difference-in-Differences\n",
    "- Granger Causality\n",
    "- Propensity Score Matching\n",
    "- Inverse Probability of Treatment Weighting (IPTW)\n",
    "- Doubly Robust Estimation\n",
    "- Instrumental Variables"
   ]
  },
  {
   "cell_type": "markdown",
   "metadata": {},
   "source": [
    "#### Average Treatment Effect\n",
    "Before we get into a more complex models, we need to know how to estimate the average treatment effect (**$ATE$**). The traditional way to estimate it is basically:\n",
    "$$\\Delta = E[Y_1 - Y_0]$$\n",
    "$$\\Delta_{row} = E[Y \\mid T = 1] - E[Y \\mid T = 0] = E[Y_1 \\mid T = 1] - E[Y_0 \\mid T = 0] \\ne E[Y_1 - Y_0]$$\n",
    "A really common concept that may be strange for a lot of people at first sight is that formula below:\n",
    "$$E[Y_i \\mid T = i] \\ne E[Y_i]$$\n",
    "First let's me describe each term so it may be more easy to understand. $E[Y_i \\mid T = i]$ is the expected outcome given the treatment which uses a Bayes Theorem and $E[Y_i]$ is the expected value at $i$. See the difference? The first term has a conditional probability and the other one doesn't.<br>\n",
    "#### Causal Inference Assumptions\n",
    "Most common assumptions:\n",
    "- SUTVA (Stable Unit Treatment Value Assumption)\n",
    "- Consistency\n",
    "- Ignorability\n",
    "- Positivity\n",
    "\n",
    "<b>SUTVA</b>: Means that no other treatment intefere in another treatment.<br>\n",
    "<b>Consistency</b>: An individual's potential outcome under his or her observed exposure history is the outcome that will actually be observed for that person.<br>\n",
    "<b>Ignorability</b>: If we want to interpret the regression coefficient for treatment as an average causal effect then all the counfounding covariates should be controlled for in the regression model.<br>\n",
    "<b>Positivity</b>: There's no possible way to get a negative probability of an event.<br>"
   ]
  },
  {
   "cell_type": "markdown",
   "metadata": {},
   "source": [
    "### Difference-in-Differences\n",
    "Difference-in-Differences (DiD or DD) is actually a quasi-experimental method which compare the difference between the outcome population which was into the treatment and the population which wasn't. The mathematical notation would be something like this:<br>\n",
    "$$ControlDifference = E[\\overline{Y_1^C}] - E[\\overline{Y_0^C}]$$\n",
    "$$TreatmentDifference = E[\\overline{Y_1^T}] - E[\\overline{Y_0^T}]$$\n",
    "$$DD = TreatmentDifference - ControlDifference$$"
   ]
  },
  {
   "cell_type": "code",
   "execution_count": 7,
   "metadata": {},
   "outputs": [
    {
     "name": "stdout",
     "output_type": "stream",
     "text": [
      "\n",
      "Treatment Effect Estimates: OLS\n",
      "\n",
      "                     Est.       S.e.          z      P>|z|      [95% Conf. int.]\n",
      "--------------------------------------------------------------------------------\n",
      "           ATE   1676.343    669.087      2.505      0.012    364.933   2987.753\n",
      "\n"
     ]
    }
   ],
   "source": [
    "covariates = ['age', 'education', 'black', 'hispanic', 'married', 'nodegree', 're74', 're75']\n",
    "\n",
    "causal = CausalModel(\n",
    "    Y=df['re78'].values, \n",
    "    D=df['treat'].values, \n",
    "    X=df[covariates].values)\n",
    "\n",
    "causal.est_via_ols(adj=1)\n",
    "\n",
    "print(causal.estimates)"
   ]
  },
  {
   "cell_type": "markdown",
   "metadata": {},
   "source": [
    "Seems like our Ordinary Least Squares regression give us some interesting results. Let's make a summary here.<br>\n",
    "- A estimative around 1676 dollars per year<br>\n",
    "- A 95% of confidence that our earnings in 1978 would be around 364 and 2987 dollars<br>\n",
    "- The p-value of 0.012 reject the null hipothesis of no treatment effect<br>\n"
   ]
  },
  {
   "cell_type": "markdown",
   "metadata": {},
   "source": [
    "### Granger Causality\n",
    "Granger Causality verifies if the lag of the current covariates influences into forecasting the next value of $Y$. Also we have some ways to find out which is the a good number of lags of the features. A really common way is to run a Granger Causality test to verify if the lag that we are applying will help.<br>\n",
    "To run the test we need to see if our time-series is stationary that we could use the Augmented Dickey-Fuller test. Which mathematically come like this:<br>\n",
    "$$\\Delta{y_t} = \\alpha + \\beta{t} + \\gamma{y_{t-1}} + \\delta_1{\\Delta{y_{t-1}}} + \\delta_1{\\Delta{y_{t-2}}} + ...$$\n",
    "And the we run our Granger Causality test for optimal lags.<br>\n",
    "<br>\n",
    "Let's begin with the Augmented Dickey-Fuller test.<br>\n",
    "<br>\n",
    "$H_0$ = Time-Series Non-Stationary<br>\n",
    "$H_1$ = Time-Series Stationary"
   ]
  },
  {
   "cell_type": "code",
   "execution_count": 8,
   "metadata": {},
   "outputs": [
    {
     "name": "stdout",
     "output_type": "stream",
     "text": [
      "Augmented Dickey-Fuller Statistic: -21.338109313770715\n",
      "Critical Values:\n",
      "\t%1%: -3.4451642100030084\n",
      "\t%5%: -2.8680716196949327\n",
      "\t%10%: -2.5702491139112085\n"
     ]
    }
   ],
   "source": [
    "# Augmented Dickey-Fuller\n",
    "result = adfuller(df['re78'].values, autolag='AIC')\n",
    "print(f'Augmented Dickey-Fuller Statistic: {result[0]}')\n",
    "print('Critical Values:')\n",
    "for key, value in result[4].items():\n",
    "    print(f'\\t%{key}: {value}')"
   ]
  },
  {
   "cell_type": "markdown",
   "metadata": {},
   "source": [
    "Since our value of the current test is below all the critical values, we can reject the null hypothesis that our series is non-stationary."
   ]
  },
  {
   "cell_type": "code",
   "execution_count": 9,
   "metadata": {},
   "outputs": [
    {
     "name": "stdout",
     "output_type": "stream",
     "text": [
      "\n",
      "Granger Causality\n",
      "number of lags (no zero) 1\n",
      "ssr based F test:         F=0.2718  , p=0.6024  , df_denom=441, df_num=1\n",
      "ssr based chi2 test:   chi2=0.2736  , p=0.6009  , df=1\n",
      "likelihood ratio test: chi2=0.2735  , p=0.6010  , df=1\n",
      "parameter F test:         F=0.2718  , p=0.6024  , df_denom=441, df_num=1\n",
      "\n",
      "Granger Causality\n",
      "number of lags (no zero) 2\n",
      "ssr based F test:         F=5.6741  , p=0.0037  , df_denom=438, df_num=2\n",
      "ssr based chi2 test:   chi2=11.4777 , p=0.0032  , df=2\n",
      "likelihood ratio test: chi2=11.3316 , p=0.0035  , df=2\n",
      "parameter F test:         F=5.6741  , p=0.0037  , df_denom=438, df_num=2\n",
      "\n",
      "Granger Causality\n",
      "number of lags (no zero) 3\n",
      "ssr based F test:         F=3.8775  , p=0.0093  , df_denom=435, df_num=3\n",
      "ssr based chi2 test:   chi2=11.8198 , p=0.0080  , df=3\n",
      "likelihood ratio test: chi2=11.6645 , p=0.0086  , df=3\n",
      "parameter F test:         F=3.8775  , p=0.0093  , df_denom=435, df_num=3\n",
      "\n",
      "Granger Causality\n",
      "number of lags (no zero) 4\n",
      "ssr based F test:         F=2.9515  , p=0.0199  , df_denom=432, df_num=4\n",
      "ssr based chi2 test:   chi2=12.0521 , p=0.0170  , df=4\n",
      "likelihood ratio test: chi2=11.8904 , p=0.0182  , df=4\n",
      "parameter F test:         F=2.9515  , p=0.0199  , df_denom=432, df_num=4\n",
      "\n",
      "Granger Causality\n",
      "number of lags (no zero) 5\n",
      "ssr based F test:         F=2.6904  , p=0.0208  , df_denom=429, df_num=5\n",
      "ssr based chi2 test:   chi2=13.7972 , p=0.0170  , df=5\n",
      "likelihood ratio test: chi2=13.5853 , p=0.0185  , df=5\n",
      "parameter F test:         F=2.6904  , p=0.0208  , df_denom=429, df_num=5\n"
     ]
    },
    {
     "data": {
      "text/plain": [
       "<method-wrapper '__repr__' of dict object at 0x1a1da4caa0>"
      ]
     },
     "execution_count": 9,
     "metadata": {},
     "output_type": "execute_result"
    }
   ],
   "source": [
    "grangercausalitytests(df[['re78', 'education']], maxlag = 5).__repr__"
   ]
  },
  {
   "cell_type": "markdown",
   "metadata": {},
   "source": [
    "Look's like a lag of 3 would be a great choice for us to use lag of 5 for education, which means that this could be helpful to predict the next value."
   ]
  },
  {
   "cell_type": "markdown",
   "metadata": {},
   "source": [
    "### Propensity Score Matching\n"
   ]
  },
  {
   "cell_type": "markdown",
   "metadata": {},
   "source": [
    "Before start with propenstity score matching let's understand first what is the [Propensity Score](https://www.researchgate.net/publication/243082748_The_Central_Role_of_the_Propensity_Score_in_Observational_Studies_For_Causal_Effects#:~:text=The%20ability%20of%20the%20propensity,the%20treatment%20and%20control%20groups).<br>\n",
    "Propensity Score is the probability of treatment assignment conditional on observed data. We can think about that if we have two pacients which one received and the other one didn't received a treatment for any disease, if we think that they have the same probability of receiving the treatment, the reason behind receiving or not receiving a treatment is a chance, we can see below that since i condition on $P(x)$ i'll have everything i need to estimate what T would be.\n",
    "$$E[T|P(x), X] = E[T|P(x)]$$\n",
    "where\n",
    "$$P(x) = P(T=t|X=x)$$\n",
    "which can be also be represented by $\\pi(x)$."
   ]
  },
  {
   "cell_type": "markdown",
   "metadata": {},
   "source": [
    "Now that we know what propensity score is, we need to estimate this into a real world problem, a common way to do so it's using a Logistic Regression also know as Logit but other algorithmns can be taken to estimate the propensity score."
   ]
  },
  {
   "cell_type": "code",
   "execution_count": 10,
   "metadata": {},
   "outputs": [],
   "source": [
    "logit = LogisticRegression().fit(df[covariates], df['treat'])\n",
    "df_ps = df.assign(propensity_score = logit.predict_proba(df[covariates])[:, 1])"
   ]
  },
  {
   "cell_type": "code",
   "execution_count": 11,
   "metadata": {},
   "outputs": [
    {
     "data": {
      "text/html": [
       "<div>\n",
       "<style scoped>\n",
       "    .dataframe tbody tr th:only-of-type {\n",
       "        vertical-align: middle;\n",
       "    }\n",
       "\n",
       "    .dataframe tbody tr th {\n",
       "        vertical-align: top;\n",
       "    }\n",
       "\n",
       "    .dataframe thead th {\n",
       "        text-align: right;\n",
       "    }\n",
       "</style>\n",
       "<table border=\"1\" class=\"dataframe\">\n",
       "  <thead>\n",
       "    <tr style=\"text-align: right;\">\n",
       "      <th></th>\n",
       "      <th>treat</th>\n",
       "      <th>age</th>\n",
       "      <th>education</th>\n",
       "      <th>black</th>\n",
       "      <th>hispanic</th>\n",
       "      <th>married</th>\n",
       "      <th>nodegree</th>\n",
       "      <th>re74</th>\n",
       "      <th>re75</th>\n",
       "      <th>re78</th>\n",
       "      <th>propensity_score</th>\n",
       "    </tr>\n",
       "  </thead>\n",
       "  <tbody>\n",
       "    <tr>\n",
       "      <th>0</th>\n",
       "      <td>1.0</td>\n",
       "      <td>37.0</td>\n",
       "      <td>11.0</td>\n",
       "      <td>1.0</td>\n",
       "      <td>0.0</td>\n",
       "      <td>1.0</td>\n",
       "      <td>1.0</td>\n",
       "      <td>0.0</td>\n",
       "      <td>0.0</td>\n",
       "      <td>9930.045898</td>\n",
       "      <td>0.428836</td>\n",
       "    </tr>\n",
       "    <tr>\n",
       "      <th>1</th>\n",
       "      <td>1.0</td>\n",
       "      <td>22.0</td>\n",
       "      <td>9.0</td>\n",
       "      <td>0.0</td>\n",
       "      <td>1.0</td>\n",
       "      <td>0.0</td>\n",
       "      <td>1.0</td>\n",
       "      <td>0.0</td>\n",
       "      <td>0.0</td>\n",
       "      <td>3595.894043</td>\n",
       "      <td>0.315764</td>\n",
       "    </tr>\n",
       "    <tr>\n",
       "      <th>2</th>\n",
       "      <td>1.0</td>\n",
       "      <td>30.0</td>\n",
       "      <td>12.0</td>\n",
       "      <td>1.0</td>\n",
       "      <td>0.0</td>\n",
       "      <td>0.0</td>\n",
       "      <td>0.0</td>\n",
       "      <td>0.0</td>\n",
       "      <td>0.0</td>\n",
       "      <td>24909.449219</td>\n",
       "      <td>0.553978</td>\n",
       "    </tr>\n",
       "    <tr>\n",
       "      <th>3</th>\n",
       "      <td>1.0</td>\n",
       "      <td>27.0</td>\n",
       "      <td>11.0</td>\n",
       "      <td>1.0</td>\n",
       "      <td>0.0</td>\n",
       "      <td>0.0</td>\n",
       "      <td>1.0</td>\n",
       "      <td>0.0</td>\n",
       "      <td>0.0</td>\n",
       "      <td>7506.145996</td>\n",
       "      <td>0.376080</td>\n",
       "    </tr>\n",
       "    <tr>\n",
       "      <th>4</th>\n",
       "      <td>1.0</td>\n",
       "      <td>33.0</td>\n",
       "      <td>8.0</td>\n",
       "      <td>1.0</td>\n",
       "      <td>0.0</td>\n",
       "      <td>0.0</td>\n",
       "      <td>1.0</td>\n",
       "      <td>0.0</td>\n",
       "      <td>0.0</td>\n",
       "      <td>289.789886</td>\n",
       "      <td>0.392726</td>\n",
       "    </tr>\n",
       "  </tbody>\n",
       "</table>\n",
       "</div>"
      ],
      "text/plain": [
       "   treat   age  education  black  hispanic  married  nodegree  re74  re75  \\\n",
       "0    1.0  37.0       11.0    1.0       0.0      1.0       1.0   0.0   0.0   \n",
       "1    1.0  22.0        9.0    0.0       1.0      0.0       1.0   0.0   0.0   \n",
       "2    1.0  30.0       12.0    1.0       0.0      0.0       0.0   0.0   0.0   \n",
       "3    1.0  27.0       11.0    1.0       0.0      0.0       1.0   0.0   0.0   \n",
       "4    1.0  33.0        8.0    1.0       0.0      0.0       1.0   0.0   0.0   \n",
       "\n",
       "           re78  propensity_score  \n",
       "0   9930.045898          0.428836  \n",
       "1   3595.894043          0.315764  \n",
       "2  24909.449219          0.553978  \n",
       "3   7506.145996          0.376080  \n",
       "4    289.789886          0.392726  "
      ]
     },
     "execution_count": 11,
     "metadata": {},
     "output_type": "execute_result"
    }
   ],
   "source": [
    "df_ps.head()"
   ]
  },
  {
   "cell_type": "markdown",
   "metadata": {},
   "source": [
    "Now that we calculated the Propensity Score, we can match the the data, also we can have more than a single match but let's keep it simple for now, i'll use a bias adjustment to make a more precise matching. We have a enormous varieties of mensure the distance between two vectors from the same dataset.<br>\n",
    "Some examples:<br>\n",
    "- Euclidian Distance\n",
    "- Mahalanobis Distance\n",
    "<br>"
   ]
  },
  {
   "cell_type": "markdown",
   "metadata": {},
   "source": [
    "The Euclidian Distance is given by:<br>\n",
    "$$d_m(x,y) = \\sqrt{(x - y)^T(x - y)}$$\n",
    "and the Mahalanobis Distance is given by:<br>\n",
    "$$d_m(x,y) = \\sqrt{(x - y)^TS^{-1}(x - y)}$$\n",
    "$S^{-1}$ = Inverse Covariance Matrix of the independent variables<br>\n",
    "Note that the Mahalanobis Distance equals to the Euclidian Distance considering how much correlated the variables are. Those two formulas are highly used in Machine Learning algorithmns like K-Nearest Neighbors to get the closest points."
   ]
  },
  {
   "cell_type": "code",
   "execution_count": 12,
   "metadata": {},
   "outputs": [
    {
     "name": "stdout",
     "output_type": "stream",
     "text": [
      "\n",
      "Treatment Effect Estimates: Matching\n",
      "\n",
      "                     Est.       S.e.          z      P>|z|      [95% Conf. int.]\n",
      "--------------------------------------------------------------------------------\n",
      "           ATE   1595.714   1020.676      1.563      0.118   -404.811   3596.239\n",
      "           ATC   1528.307   1152.283      1.326      0.185   -730.167   3786.781\n",
      "           ATT   1690.449   1178.555      1.434      0.151   -619.520   4000.417\n",
      "\n"
     ]
    }
   ],
   "source": [
    "causal = CausalModel(\n",
    "    Y = df_ps[\"re78\"].values, \n",
    "    D = df_ps[\"treat\"].values, \n",
    "    X = df_ps[[\"propensity_score\"]].values\n",
    ")\n",
    "\n",
    "causal.est_via_matching(matches = 1, bias_adj = True)\n",
    "\n",
    "print(causal.estimates)"
   ]
  },
  {
   "cell_type": "markdown",
   "metadata": {},
   "source": [
    "### Inverse Probability of Treatment Weighting\n",
    "We know how to estimate the propensity score so the weight of every person from the treatment group can be estimated by:\n",
    "$$w(x) = \\frac{1}{\\pi(x)}$$\n",
    "and for everyone from the control group should be approximately:\n",
    "$$w(x) = \\frac{1}{1-\\pi(x)}$$\n",
    "But looking for these two types of weight for each case we can build a formula that represents our $IPTW$.\n",
    "$$IPTW = \\frac{1}{n_T}\\sum_{i:T_i=1}\\frac{Y_i}{\\pi(X_i)} - \\frac{1}{n_C}\\sum_{i:T_i=0}\\frac{Y_i}{1 - \\pi(X_i)}$$\n",
    "This still look's that can be generalized.\n",
    "$$IPTW = \\frac{1}{n}\\sum_{i}^n\\frac{T_iY_i}{\\pi(X_i)} - \\frac{1}{n}\\sum_{i}^n\\frac{(1 - T_i)Y_i}{1 - \\pi(X_i)}$$\n",
    "for a more easy understandable we can substitute the mean symbol for a $E$. Which becomes a:\n",
    "$$IPTW = E\\Big[\\frac{TY}{\\pi(X)}\\Big] - E\\Big[\\frac{(1 - T)Y}{1 - \\pi(X)}\\Big]$$\n",
    "But after all, what are the benefits of the IPTW? That technique can create us a unconfounded pseudo-population based on the propensity score, we can create a simple example for analysing the weights. e.g. Given the X covariates our estimator for propensity score tell us that this person should not be treated but in practice we know that this person should be considerer for a treatment group, what will happen with the weight of it? It will have a small or large weight? For this case it will have a large weight but this make us a complication making our model unstable.<br>\n",
    "Given this issue of large weights getting our model a lower perfomance we can use a model with stabilized weights.<br>\n",
    "That just remove from the treatment group the weight:<br>\n",
    "$$w(x) = \\frac{1}{\\pi(x)}$$\n",
    "for\n",
    "$$w(x) = \\frac{P(T=1)}{\\pi(x)}$$\n",
    "And for the control group we get:\n",
    "$$w(x) = \\frac{1 - P(T = 1)}{1 - \\pi(x)}$$"
   ]
  },
  {
   "cell_type": "code",
   "execution_count": 13,
   "metadata": {},
   "outputs": [],
   "source": [
    "df_ps['ips'] = np.where(df_ps['treat'] == 1,\n",
    "                       1/df_ps['propensity_score'],\n",
    "                       1/ (1 - df_ps['propensity_score']))\n",
    "df_ps['ipsw'] = df_ps['ips'] * df_ps['re78']"
   ]
  },
  {
   "cell_type": "code",
   "execution_count": 14,
   "metadata": {},
   "outputs": [
    {
     "data": {
      "text/html": [
       "<div>\n",
       "<style scoped>\n",
       "    .dataframe tbody tr th:only-of-type {\n",
       "        vertical-align: middle;\n",
       "    }\n",
       "\n",
       "    .dataframe tbody tr th {\n",
       "        vertical-align: top;\n",
       "    }\n",
       "\n",
       "    .dataframe thead th {\n",
       "        text-align: right;\n",
       "    }\n",
       "</style>\n",
       "<table border=\"1\" class=\"dataframe\">\n",
       "  <thead>\n",
       "    <tr style=\"text-align: right;\">\n",
       "      <th></th>\n",
       "      <th>treat</th>\n",
       "      <th>age</th>\n",
       "      <th>education</th>\n",
       "      <th>black</th>\n",
       "      <th>hispanic</th>\n",
       "      <th>married</th>\n",
       "      <th>nodegree</th>\n",
       "      <th>re74</th>\n",
       "      <th>re75</th>\n",
       "      <th>re78</th>\n",
       "      <th>propensity_score</th>\n",
       "      <th>ips</th>\n",
       "      <th>ipsw</th>\n",
       "    </tr>\n",
       "  </thead>\n",
       "  <tbody>\n",
       "    <tr>\n",
       "      <th>0</th>\n",
       "      <td>1.0</td>\n",
       "      <td>37.0</td>\n",
       "      <td>11.0</td>\n",
       "      <td>1.0</td>\n",
       "      <td>0.0</td>\n",
       "      <td>1.0</td>\n",
       "      <td>1.0</td>\n",
       "      <td>0.0</td>\n",
       "      <td>0.0</td>\n",
       "      <td>9930.045898</td>\n",
       "      <td>0.428836</td>\n",
       "      <td>2.331894</td>\n",
       "      <td>23155.809946</td>\n",
       "    </tr>\n",
       "    <tr>\n",
       "      <th>1</th>\n",
       "      <td>1.0</td>\n",
       "      <td>22.0</td>\n",
       "      <td>9.0</td>\n",
       "      <td>0.0</td>\n",
       "      <td>1.0</td>\n",
       "      <td>0.0</td>\n",
       "      <td>1.0</td>\n",
       "      <td>0.0</td>\n",
       "      <td>0.0</td>\n",
       "      <td>3595.894043</td>\n",
       "      <td>0.315764</td>\n",
       "      <td>3.166920</td>\n",
       "      <td>11387.910482</td>\n",
       "    </tr>\n",
       "    <tr>\n",
       "      <th>2</th>\n",
       "      <td>1.0</td>\n",
       "      <td>30.0</td>\n",
       "      <td>12.0</td>\n",
       "      <td>1.0</td>\n",
       "      <td>0.0</td>\n",
       "      <td>0.0</td>\n",
       "      <td>0.0</td>\n",
       "      <td>0.0</td>\n",
       "      <td>0.0</td>\n",
       "      <td>24909.449219</td>\n",
       "      <td>0.553978</td>\n",
       "      <td>1.805124</td>\n",
       "      <td>44964.657014</td>\n",
       "    </tr>\n",
       "    <tr>\n",
       "      <th>3</th>\n",
       "      <td>1.0</td>\n",
       "      <td>27.0</td>\n",
       "      <td>11.0</td>\n",
       "      <td>1.0</td>\n",
       "      <td>0.0</td>\n",
       "      <td>0.0</td>\n",
       "      <td>1.0</td>\n",
       "      <td>0.0</td>\n",
       "      <td>0.0</td>\n",
       "      <td>7506.145996</td>\n",
       "      <td>0.376080</td>\n",
       "      <td>2.659009</td>\n",
       "      <td>19958.912637</td>\n",
       "    </tr>\n",
       "    <tr>\n",
       "      <th>4</th>\n",
       "      <td>1.0</td>\n",
       "      <td>33.0</td>\n",
       "      <td>8.0</td>\n",
       "      <td>1.0</td>\n",
       "      <td>0.0</td>\n",
       "      <td>0.0</td>\n",
       "      <td>1.0</td>\n",
       "      <td>0.0</td>\n",
       "      <td>0.0</td>\n",
       "      <td>289.789886</td>\n",
       "      <td>0.392726</td>\n",
       "      <td>2.546301</td>\n",
       "      <td>737.892382</td>\n",
       "    </tr>\n",
       "  </tbody>\n",
       "</table>\n",
       "</div>"
      ],
      "text/plain": [
       "   treat   age  education  black  hispanic  married  nodegree  re74  re75  \\\n",
       "0    1.0  37.0       11.0    1.0       0.0      1.0       1.0   0.0   0.0   \n",
       "1    1.0  22.0        9.0    0.0       1.0      0.0       1.0   0.0   0.0   \n",
       "2    1.0  30.0       12.0    1.0       0.0      0.0       0.0   0.0   0.0   \n",
       "3    1.0  27.0       11.0    1.0       0.0      0.0       1.0   0.0   0.0   \n",
       "4    1.0  33.0        8.0    1.0       0.0      0.0       1.0   0.0   0.0   \n",
       "\n",
       "           re78  propensity_score       ips          ipsw  \n",
       "0   9930.045898          0.428836  2.331894  23155.809946  \n",
       "1   3595.894043          0.315764  3.166920  11387.910482  \n",
       "2  24909.449219          0.553978  1.805124  44964.657014  \n",
       "3   7506.145996          0.376080  2.659009  19958.912637  \n",
       "4    289.789886          0.392726  2.546301    737.892382  "
      ]
     },
     "execution_count": 14,
     "metadata": {},
     "output_type": "execute_result"
    }
   ],
   "source": [
    "df_ps.head()"
   ]
  },
  {
   "cell_type": "markdown",
   "metadata": {},
   "source": [
    "Let's see our estimator."
   ]
  },
  {
   "cell_type": "code",
   "execution_count": 15,
   "metadata": {},
   "outputs": [
    {
     "data": {
      "text/plain": [
       "1573.5218889051453"
      ]
     },
     "execution_count": 15,
     "metadata": {},
     "output_type": "execute_result"
    }
   ],
   "source": [
    "(df_ps.query(\"treat == 1\")['ipsw'].sum() - df_ps.query(\"treat == 0\")['ipsw'].sum())/df_ps.shape[0]"
   ]
  },
  {
   "cell_type": "markdown",
   "metadata": {},
   "source": [
    "We could do the same thing with causalinference package."
   ]
  },
  {
   "cell_type": "code",
   "execution_count": 16,
   "metadata": {},
   "outputs": [
    {
     "data": {
      "text/plain": [
       "1573.5218889051453"
      ]
     },
     "execution_count": 16,
     "metadata": {},
     "output_type": "execute_result"
    }
   ],
   "source": [
    "df_psc = df_ps.copy()\n",
    "\n",
    "causal = CausalModel(\n",
    "    Y=df['re78'].values, \n",
    "    D=df['treat'].values, \n",
    "    X=df[covariates].values)\n",
    "\n",
    "causal.est_propensity_s()\n",
    "\n",
    "ps = causal.propensity[\"fitted\"]\n",
    "df_psc['ips'] = np.where(df_psc['treat'] == 1,\n",
    "                       1/df_psc['propensity_score'],\n",
    "                       1/ (1 - df_psc['propensity_score']))\n",
    "df_psc['ipsw'] = df_psc['ips'] * df_psc['re78']\n",
    "\n",
    "(df_psc.query(\"treat == 1\")['ipsw'].sum() - df_psc.query(\"treat == 0\")['ipsw'].sum())/df_psc.shape[0]"
   ]
  },
  {
   "cell_type": "markdown",
   "metadata": {},
   "source": [
    "### Doubly Robust Estimator\n",
    "So, what makes a Doubly Robust Estimator? All estimator can be biased right? With that in mind several people tried to combine models to create a good estimator. What we can use while trying to create a Doubly Robust Estimator? Well, we already have our first step: the Inverse Probability Treatment Weighting (IPTW) and our second step is any other model $m$. Keep in mind that the most used model i seen around papers and articles is OLS. So basically the Doubly Robust combine both approuches to a unique estimator.<br>\n",
    "Note: The $m$ model can be any model from RandomForests to OLS.<br>\n",
    "<br>\n",
    "Let's explain this is a more clear way to implement this after.<br>\n",
    "Our model $m$ will give us:\n",
    "$$m_t = E[Y|T = t, X]$$\n",
    "where"
   ]
  },
  {
   "cell_type": "markdown",
   "metadata": {},
   "source": [
    "$$t = \\begin{cases}\n",
    "    1       & \\quad \\text{if } \\text{is treatment group}\\\\\n",
    "    0  & \\quad \\text{if }\\text{is control group}\n",
    "  \\end{cases}\n",
    "$$"
   ]
  },
  {
   "cell_type": "markdown",
   "metadata": {},
   "source": [
    "With that in mind we get the current equation representing our combination:<br>\n",
    "$$ATE_{DR} = \\frac{1}{n}\\sum_{i=1}^n\\Big[\\frac{T_i Y_i}{\\pi(X_i)} - \\frac{T_i - \\pi(X_i)}{\\pi(X_i)}m_1(X_i)\\Big] - \\frac{1}{n}\\sum_{i=1}^n\\Big[\\frac{(1 - T_i) Y_i}{1 - \\pi(X_i)} + \\frac{T_i - \\pi(X_i)}{1 - \\pi(X_i)}m_0(X_i)\\Big]$$\n",
    "Replacing some terms we get:<br>\n",
    "$$ATE_{DR} = E\\Big[\\frac{T Y}{\\pi(X)} - \\frac{T - \\pi(X)}{\\pi(X)}m_1(X)\\Big] - E\\Big[\\frac{(1 - T) Y}{1 - \\pi(X)} + \\frac{T - \\pi(X)}{1 - \\pi(X)}m_0(X)\\Big]$$"
   ]
  },
  {
   "cell_type": "code",
   "execution_count": 17,
   "metadata": {},
   "outputs": [
    {
     "data": {
      "text/plain": [
       "1573.0354979711092"
      ]
     },
     "execution_count": 17,
     "metadata": {},
     "output_type": "execute_result"
    }
   ],
   "source": [
    "rf = RandomForestClassifier(n_estimators = 500, n_jobs = -1, random_state = 42)\n",
    "rf.fit(df[covariates].values, df['treat'].values)\n",
    "m = rf.predict_proba(df[covariates])[:, 1]\n",
    "\n",
    "e1 = np.mean(((df['treat'] * df['re78'])/df_psc['propensity_score']) - ((df['treat'] - df_psc['propensity_score'])/df_psc['propensity_score']) * m)\n",
    "e0 = np.mean((((1 - df['treat']) * df['re78'])/(1 - df_psc['propensity_score'])) + ((df['treat'] - df_psc['propensity_score'])/(1 - df_psc['propensity_score'])) * m)\n",
    "\n",
    "e1 - e0"
   ]
  },
  {
   "cell_type": "markdown",
   "metadata": {},
   "source": [
    "### Instrumental Variables\n",
    "An instrumental variable is a variable used in regression analysis when you have some endogenous variables that are influenced by other features in the model, with that in mind we can trust this variable to guarantee some unexpected actions at the outcome.\n",
    "Basically an instrumental variable 'z' is one that is correlated with 'x' but not with the error term.<br>\n",
    "![Instrumental Variable as DAG (Direct Acyclic Graph)](./iv.png)\n",
    "<br>\n",
    "We have a lot of ways to estimate the effect with a instrumental variable, in this session i'll estimate by the 2SLS."
   ]
  },
  {
   "cell_type": "markdown",
   "metadata": {},
   "source": [
    "#### 2SLS (Two Stage Least Squares)\n",
    "To show how Two Stage Least Squares work, let's bring it to a real world problem, the current dataset represents the economic outcomes are proxied by GDP per capita in 1995.<br>\n",
    "The columns represents:<br>\n",
    "- shortnam: Shortname for the country\n",
    "- africa: If is part of Africa\n",
    "- avexpr: Average Expropriation Risk 1985-1995\n",
    "- logpgp95: Log GDP per Capita in 1995\n",
    "- logem4: Log of Setter Mortality\n",
    "...\n",
    "\n",
    "**First stage**<br>\n",
    "The first stage is basically calculate a linear regression on the endogenous variable represented by ${avexpr}$ on the instrument.<br>\n",
    "Our instrument in this case would be a constant like 1 and setter mortality represented by ${logem4}$.<br>\n",
    "So we will have something like this:\n",
    "\n",
    "$$avexpr = \\beta_0 + \\beta_1 logem4$$\n",
    "\n",
    "**Second stage**<br>\n",
    "Now that we have our first model, we need to predict the outcome for our endogenous variable to have a estimated variable that we will use on this stage. After predicting we will have the $\\hat{avexpr}$.<br>\n",
    "Keeping that in mind, we now regress our estimated endogenous variable on the desired outcome which will be $logpgp95$.<br>\n",
    "Which will give us the next equation:<br>\n",
    "$$logpgp95 = \\beta_0 + \\beta_1\\hat{avexpr}$$"
   ]
  },
  {
   "cell_type": "code",
   "execution_count": 18,
   "metadata": {},
   "outputs": [
    {
     "name": "stdout",
     "output_type": "stream",
     "text": [
      "                            OLS Regression Results                            \n",
      "==============================================================================\n",
      "Dep. Variable:                 avexpr   R-squared:                       0.270\n",
      "Model:                            OLS   Adj. R-squared:                  0.258\n",
      "Method:                 Least Squares   F-statistic:                     22.95\n",
      "Date:                Thu, 08 Oct 2020   Prob (F-statistic):           1.08e-05\n",
      "Time:                        00:04:37   Log-Likelihood:                -104.83\n",
      "No. Observations:                  64   AIC:                             213.7\n",
      "Df Residuals:                      62   BIC:                             218.0\n",
      "Df Model:                           1                                         \n",
      "Covariance Type:            nonrobust                                         \n",
      "==============================================================================\n",
      "                 coef    std err          t      P>|t|      [0.025      0.975]\n",
      "------------------------------------------------------------------------------\n",
      "const          9.3414      0.611     15.296      0.000       8.121      10.562\n",
      "logem4        -0.6068      0.127     -4.790      0.000      -0.860      -0.354\n",
      "==============================================================================\n",
      "Omnibus:                        0.035   Durbin-Watson:                   2.003\n",
      "Prob(Omnibus):                  0.983   Jarque-Bera (JB):                0.172\n",
      "Skew:                           0.045   Prob(JB):                        0.918\n",
      "Kurtosis:                       2.763   Cond. No.                         19.4\n",
      "==============================================================================\n",
      "\n",
      "Warnings:\n",
      "[1] Standard Errors assume that the covariance matrix of the errors is correctly specified.\n"
     ]
    }
   ],
   "source": [
    "# Import and select the data\n",
    "df = pd.read_stata('https://github.com/QuantEcon/lecture-source-py/blob/master/source/_static/lecture_specific/ols/maketable4.dta?raw=true')\n",
    "df = df[df['baseco'] == 1]\n",
    "\n",
    "# Add a constant variable\n",
    "df['const'] = 1\n",
    "\n",
    "# Fit the first stage regression and print summary\n",
    "first_stage = sm.OLS(df['avexpr'],\n",
    "                    df[['const', 'logem4']],\n",
    "                    missing='drop').fit()\n",
    "print(first_stage.summary())"
   ]
  },
  {
   "cell_type": "code",
   "execution_count": 19,
   "metadata": {},
   "outputs": [
    {
     "name": "stdout",
     "output_type": "stream",
     "text": [
      "                            OLS Regression Results                            \n",
      "==============================================================================\n",
      "Dep. Variable:               logpgp95   R-squared:                       0.477\n",
      "Model:                            OLS   Adj. R-squared:                  0.469\n",
      "Method:                 Least Squares   F-statistic:                     56.60\n",
      "Date:                Thu, 08 Oct 2020   Prob (F-statistic):           2.66e-10\n",
      "Time:                        00:04:37   Log-Likelihood:                -72.268\n",
      "No. Observations:                  64   AIC:                             148.5\n",
      "Df Residuals:                      62   BIC:                             152.9\n",
      "Df Model:                           1                                         \n",
      "Covariance Type:            nonrobust                                         \n",
      "====================================================================================\n",
      "                       coef    std err          t      P>|t|      [0.025      0.975]\n",
      "------------------------------------------------------------------------------------\n",
      "const                1.9097      0.823      2.320      0.024       0.264       3.555\n",
      "predicted_avexpr     0.9443      0.126      7.523      0.000       0.693       1.195\n",
      "==============================================================================\n",
      "Omnibus:                       10.547   Durbin-Watson:                   2.137\n",
      "Prob(Omnibus):                  0.005   Jarque-Bera (JB):               11.010\n",
      "Skew:                          -0.790   Prob(JB):                      0.00407\n",
      "Kurtosis:                       4.277   Cond. No.                         58.1\n",
      "==============================================================================\n",
      "\n",
      "Warnings:\n",
      "[1] Standard Errors assume that the covariance matrix of the errors is correctly specified.\n"
     ]
    }
   ],
   "source": [
    "# Estimate the average expropriation risk\n",
    "df['predicted_avexpr'] = first_stage.predict()\n",
    "\n",
    "# Regress our estimated value on the outcome\n",
    "second_stage = sm.OLS(df['logpgp95'],\n",
    "                    df[['const', 'predicted_avexpr']]).fit()\n",
    "print(second_stage.summary())"
   ]
  },
  {
   "cell_type": "markdown",
   "metadata": {},
   "source": [
    "Cool, now we know how to calculate the Two Stage Least Squares manually with OLS, but it's now recommended, we can use the IV2SLS from linearmodels to do that, which do all of these step in a single function, we just need to pass the required parameters."
   ]
  },
  {
   "cell_type": "code",
   "execution_count": 20,
   "metadata": {},
   "outputs": [
    {
     "name": "stdout",
     "output_type": "stream",
     "text": [
      "                          IV-2SLS Estimation Summary                          \n",
      "==============================================================================\n",
      "Dep. Variable:               logpgp95   R-squared:                      0.1870\n",
      "Estimator:                    IV-2SLS   Adj. R-squared:                 0.1739\n",
      "No. Observations:                  64   F-statistic:                    37.568\n",
      "Date:                Thu, Oct 08 2020   P-value (F-stat)                0.0000\n",
      "Time:                        00:04:39   Distribution:                  chi2(1)\n",
      "Cov. Estimator:            unadjusted                                         \n",
      "                                                                              \n",
      "                             Parameter Estimates                              \n",
      "==============================================================================\n",
      "            Parameter  Std. Err.     T-stat    P-value    Lower CI    Upper CI\n",
      "------------------------------------------------------------------------------\n",
      "const          1.9097     1.0106     1.8897     0.0588     -0.0710      3.8903\n",
      "avexpr         0.9443     0.1541     6.1293     0.0000      0.6423      1.2462\n",
      "==============================================================================\n",
      "\n",
      "Endogenous: avexpr\n",
      "Instruments: logem4\n",
      "Unadjusted Covariance (Homoskedastic)\n",
      "Debiased: False\n"
     ]
    }
   ],
   "source": [
    "iv = IV2SLS(dependent = df['logpgp95'],\n",
    "            exog = df['const'],\n",
    "            endog = df['avexpr'],\n",
    "            instruments = df['logem4']).fit(cov_type='unadjusted')\n",
    "print(iv.summary)"
   ]
  },
  {
   "cell_type": "markdown",
   "metadata": {},
   "source": [
    "The results above show us that we have estimated that institutional differences can help to explain differences in income levels across countries today."
   ]
  },
  {
   "cell_type": "markdown",
   "metadata": {},
   "source": [
    "### Cool Resources to checkout\n",
    "- Mostly Harmless Econometrics: An Empiricist's Companion (English Edition)\n",
    "- Mastering 'Metrics: The Path from Cause to Effect\n",
    "- QuantEcon\n",
    "- A Crash Course in Causality: Inferring Causal Effects from Observational Data\n",
    "- Design of Observational Studies"
   ]
  }
 ],
 "metadata": {
  "kernelspec": {
   "display_name": "Python 3",
   "language": "python",
   "name": "python3"
  },
  "language_info": {
   "codemirror_mode": {
    "name": "ipython",
    "version": 3
   },
   "file_extension": ".py",
   "mimetype": "text/x-python",
   "name": "python",
   "nbconvert_exporter": "python",
   "pygments_lexer": "ipython3",
   "version": "3.7.4"
  }
 },
 "nbformat": 4,
 "nbformat_minor": 4
}
